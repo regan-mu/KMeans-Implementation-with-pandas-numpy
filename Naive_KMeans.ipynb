{
 "cells": [
  {
   "attachments": {},
   "cell_type": "markdown",
   "metadata": {},
   "source": [
    "# A Naive Kmeans Implementation with Numpy and Pandas."
   ]
  },
  {
   "cell_type": "code",
   "execution_count": 187,
   "metadata": {},
   "outputs": [],
   "source": [
    "import pandas as pd\n",
    "import numpy as np"
   ]
  },
  {
   "cell_type": "code",
   "execution_count": 176,
   "metadata": {},
   "outputs": [],
   "source": [
    "class NaiveKmeans:\n",
    "    \"\"\"This is a naive implementation of the KMeans algorithm for clustering\"\"\"\n",
    "    def __init__(self, df, k, max_iterations=100):\n",
    "        \"\"\"Instantiate class attributes\"\"\"\n",
    "        self.df = df\n",
    "        self.k = k\n",
    "        self.max_iterations = max_iterations\n",
    "        self.centroids, self.centroid_coordinates = self.get_centroids(self.df, self.k)\n",
    "        self.n_iterations = 0\n",
    "        self.df_columns = self.df.columns\n",
    "    def get_centroids(self, df, k):\n",
    "        \"\"\"Initializes the random centroids and their coordinates\"\"\"\n",
    "        for col in df.columns:\n",
    "            if df[col].dtype == \"object\":\n",
    "                raise Exception(f\"All columns must have numeric datatypes. {col} is a string.\")\n",
    "        centroids = df.sample(k)\n",
    "        centroid_coordinates = centroids.values.tolist()\n",
    "        return centroids, centroid_coordinates\n",
    "    def calculate_distances(self):\n",
    "        \"\"\"\n",
    "            Takes in the coordinates and calculate the euclidean \n",
    "            distances btwn the each centroid and the datapoints\n",
    "        \"\"\"\n",
    "        names = []\n",
    "        distances_df = pd.DataFrame()\n",
    "        for i, coordinates in enumerate(self.centroid_coordinates):\n",
    "            name = f\"distances_{i+1}\"\n",
    "            distance_difference = (self.df[self.df_columns] - coordinates)**2\n",
    "            distance_sum = distance_difference.sum(axis=1)\n",
    "            distances_sqrt = np.sqrt(distance_sum)\n",
    "            distances_df[name] = distances_sqrt\n",
    "            names.append(name)\n",
    "        self.df = pd.concat([self.df, distances_df], axis=1)\n",
    "        return names\n",
    "    def calculate_clusters(self):\n",
    "        \"\"\"Calculates the clusters each record belongs to\"\"\"\n",
    "        distance_cols = self.calculate_distances()\n",
    "        self.df[\"clusters\"] = self.df[distance_cols].idxmin(axis=1).str.split(\"_\").str[-1]\n",
    "        return distance_cols\n",
    "    \n",
    "    def adjust_centroids(self):\n",
    "        \"\"\"Adjusts the centroids by calculating the means for the clusters\"\"\"\n",
    "        distance_cols = self.calculate_clusters()\n",
    "        self.df = self.df.drop(distance_cols, axis=1)\n",
    "        new_centroids = round(self.df.groupby(\"clusters\").mean(), 2)\n",
    "        new_coords = new_centroids.values.tolist()\n",
    "        return new_centroids, new_coords\n",
    "    \n",
    "    def predict(self):\n",
    "        \"\"\"\n",
    "            Iterates the adjustments of the centroids until convergence or until \n",
    "            the set number of iterations is reached.\n",
    "        \"\"\"\n",
    "        for i in range(self.max_iterations):\n",
    "            previous_coordinates = self.centroid_coordinates\n",
    "            self.centroids, self.centroid_coordinates = self.adjust_centroids()\n",
    "            if previous_coordinates == self.centroid_coordinates:\n",
    "                break\n",
    "        self.n_iterations = i+1\n",
    "        return self.df"
   ]
  },
  {
   "cell_type": "markdown",
   "metadata": {},
   "source": [
    "## Test the Algorithm with Data"
   ]
  },
  {
   "cell_type": "code",
   "execution_count": 177,
   "metadata": {},
   "outputs": [
    {
     "data": {
      "text/html": [
       "<div>\n",
       "<style scoped>\n",
       "    .dataframe tbody tr th:only-of-type {\n",
       "        vertical-align: middle;\n",
       "    }\n",
       "\n",
       "    .dataframe tbody tr th {\n",
       "        vertical-align: top;\n",
       "    }\n",
       "\n",
       "    .dataframe thead th {\n",
       "        text-align: right;\n",
       "    }\n",
       "</style>\n",
       "<table border=\"1\" class=\"dataframe\">\n",
       "  <thead>\n",
       "    <tr style=\"text-align: right;\">\n",
       "      <th></th>\n",
       "      <th>Age</th>\n",
       "      <th>Annual_Income</th>\n",
       "      <th>Spending_Score</th>\n",
       "    </tr>\n",
       "  </thead>\n",
       "  <tbody>\n",
       "    <tr>\n",
       "      <th>0</th>\n",
       "      <td>19</td>\n",
       "      <td>15</td>\n",
       "      <td>39</td>\n",
       "    </tr>\n",
       "    <tr>\n",
       "      <th>1</th>\n",
       "      <td>21</td>\n",
       "      <td>15</td>\n",
       "      <td>81</td>\n",
       "    </tr>\n",
       "  </tbody>\n",
       "</table>\n",
       "</div>"
      ],
      "text/plain": [
       "   Age  Annual_Income  Spending_Score\n",
       "0   19             15              39\n",
       "1   21             15              81"
      ]
     },
     "execution_count": 177,
     "metadata": {},
     "output_type": "execute_result"
    }
   ],
   "source": [
    "df = pd.read_csv(\"./mall_customers.csv\")\n",
    "df = df.rename(columns={\"Annual Income (k$)\": \"Annual_Income\", \"Spending Score (1-100)\": \"Spending_Score\"})\n",
    "variables = [\"Age\", \"Annual_Income\", \"Spending_Score\"]\n",
    "df = df[variables]\n",
    "df.head(2)"
   ]
  },
  {
   "cell_type": "code",
   "execution_count": 184,
   "metadata": {},
   "outputs": [
    {
     "data": {
      "text/html": [
       "<div>\n",
       "<style scoped>\n",
       "    .dataframe tbody tr th:only-of-type {\n",
       "        vertical-align: middle;\n",
       "    }\n",
       "\n",
       "    .dataframe tbody tr th {\n",
       "        vertical-align: top;\n",
       "    }\n",
       "\n",
       "    .dataframe thead th {\n",
       "        text-align: right;\n",
       "    }\n",
       "</style>\n",
       "<table border=\"1\" class=\"dataframe\">\n",
       "  <thead>\n",
       "    <tr style=\"text-align: right;\">\n",
       "      <th></th>\n",
       "      <th>Age</th>\n",
       "      <th>Annual_Income</th>\n",
       "      <th>Spending_Score</th>\n",
       "    </tr>\n",
       "  </thead>\n",
       "  <tbody>\n",
       "    <tr>\n",
       "      <th>88</th>\n",
       "      <td>34</td>\n",
       "      <td>58</td>\n",
       "      <td>60</td>\n",
       "    </tr>\n",
       "    <tr>\n",
       "      <th>154</th>\n",
       "      <td>47</td>\n",
       "      <td>78</td>\n",
       "      <td>16</td>\n",
       "    </tr>\n",
       "  </tbody>\n",
       "</table>\n",
       "</div>"
      ],
      "text/plain": [
       "     Age  Annual_Income  Spending_Score\n",
       "88    34             58              60\n",
       "154   47             78              16"
      ]
     },
     "execution_count": 184,
     "metadata": {},
     "output_type": "execute_result"
    }
   ],
   "source": [
    "# Instantiate the Algorithm\n",
    "kmeans = NaiveKmeans(df, 2)\n",
    "kmeans.centroids"
   ]
  },
  {
   "cell_type": "code",
   "execution_count": 185,
   "metadata": {},
   "outputs": [
    {
     "data": {
      "text/html": [
       "<div>\n",
       "<style scoped>\n",
       "    .dataframe tbody tr th:only-of-type {\n",
       "        vertical-align: middle;\n",
       "    }\n",
       "\n",
       "    .dataframe tbody tr th {\n",
       "        vertical-align: top;\n",
       "    }\n",
       "\n",
       "    .dataframe thead th {\n",
       "        text-align: right;\n",
       "    }\n",
       "</style>\n",
       "<table border=\"1\" class=\"dataframe\">\n",
       "  <thead>\n",
       "    <tr style=\"text-align: right;\">\n",
       "      <th></th>\n",
       "      <th>Age</th>\n",
       "      <th>Annual_Income</th>\n",
       "      <th>Spending_Score</th>\n",
       "      <th>clusters</th>\n",
       "    </tr>\n",
       "  </thead>\n",
       "  <tbody>\n",
       "    <tr>\n",
       "      <th>0</th>\n",
       "      <td>19</td>\n",
       "      <td>15</td>\n",
       "      <td>39</td>\n",
       "      <td>1</td>\n",
       "    </tr>\n",
       "    <tr>\n",
       "      <th>1</th>\n",
       "      <td>21</td>\n",
       "      <td>15</td>\n",
       "      <td>81</td>\n",
       "      <td>1</td>\n",
       "    </tr>\n",
       "    <tr>\n",
       "      <th>2</th>\n",
       "      <td>20</td>\n",
       "      <td>16</td>\n",
       "      <td>6</td>\n",
       "      <td>2</td>\n",
       "    </tr>\n",
       "    <tr>\n",
       "      <th>3</th>\n",
       "      <td>23</td>\n",
       "      <td>16</td>\n",
       "      <td>77</td>\n",
       "      <td>1</td>\n",
       "    </tr>\n",
       "    <tr>\n",
       "      <th>4</th>\n",
       "      <td>31</td>\n",
       "      <td>17</td>\n",
       "      <td>40</td>\n",
       "      <td>1</td>\n",
       "    </tr>\n",
       "  </tbody>\n",
       "</table>\n",
       "</div>"
      ],
      "text/plain": [
       "   Age  Annual_Income  Spending_Score clusters\n",
       "0   19             15              39        1\n",
       "1   21             15              81        1\n",
       "2   20             16               6        2\n",
       "3   23             16              77        1\n",
       "4   31             17              40        1"
      ]
     },
     "execution_count": 185,
     "metadata": {},
     "output_type": "execute_result"
    }
   ],
   "source": [
    "# Predict Cluster\n",
    "clusters = kmeans.predict()\n",
    "clusters.head()"
   ]
  },
  {
   "cell_type": "code",
   "execution_count": 186,
   "metadata": {},
   "outputs": [
    {
     "data": {
      "text/html": [
       "<div>\n",
       "<style scoped>\n",
       "    .dataframe tbody tr th:only-of-type {\n",
       "        vertical-align: middle;\n",
       "    }\n",
       "\n",
       "    .dataframe tbody tr th {\n",
       "        vertical-align: top;\n",
       "    }\n",
       "\n",
       "    .dataframe thead th {\n",
       "        text-align: right;\n",
       "    }\n",
       "</style>\n",
       "<table border=\"1\" class=\"dataframe\">\n",
       "  <thead>\n",
       "    <tr style=\"text-align: right;\">\n",
       "      <th></th>\n",
       "      <th>Age</th>\n",
       "      <th>Annual_Income</th>\n",
       "      <th>Spending_Score</th>\n",
       "    </tr>\n",
       "    <tr>\n",
       "      <th>clusters</th>\n",
       "      <th></th>\n",
       "      <th></th>\n",
       "      <th></th>\n",
       "    </tr>\n",
       "  </thead>\n",
       "  <tbody>\n",
       "    <tr>\n",
       "      <th>1</th>\n",
       "      <td>37.60</td>\n",
       "      <td>56.93</td>\n",
       "      <td>62.06</td>\n",
       "    </tr>\n",
       "    <tr>\n",
       "      <th>2</th>\n",
       "      <td>42.32</td>\n",
       "      <td>70.64</td>\n",
       "      <td>17.30</td>\n",
       "    </tr>\n",
       "  </tbody>\n",
       "</table>\n",
       "</div>"
      ],
      "text/plain": [
       "            Age  Annual_Income  Spending_Score\n",
       "clusters                                      \n",
       "1         37.60          56.93           62.06\n",
       "2         42.32          70.64           17.30"
      ]
     },
     "execution_count": 186,
     "metadata": {},
     "output_type": "execute_result"
    }
   ],
   "source": [
    "# Final Centroids\n",
    "final_centroids = kmeans.centroids\n",
    "final_centroids"
   ]
  },
  {
   "cell_type": "code",
   "execution_count": null,
   "metadata": {},
   "outputs": [],
   "source": []
  }
 ],
 "metadata": {
  "kernelspec": {
   "display_name": "base",
   "language": "python",
   "name": "python3"
  },
  "language_info": {
   "codemirror_mode": {
    "name": "ipython",
    "version": 3
   },
   "file_extension": ".py",
   "mimetype": "text/x-python",
   "name": "python",
   "nbconvert_exporter": "python",
   "pygments_lexer": "ipython3",
   "version": "3.9.13"
  },
  "orig_nbformat": 4
 },
 "nbformat": 4,
 "nbformat_minor": 2
}
