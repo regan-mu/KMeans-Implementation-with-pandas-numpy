{
 "cells": [
  {
   "attachments": {},
   "cell_type": "markdown",
   "metadata": {},
   "source": [
    "# A Naive Kmeans Implementation with Numpy and Pandas."
   ]
  },
  {
   "cell_type": "code",
   "execution_count": 1,
   "metadata": {},
   "outputs": [],
   "source": [
    "import pandas as pd\n",
    "import numpy as np"
   ]
  },
  {
   "cell_type": "code",
   "execution_count": 104,
   "metadata": {},
   "outputs": [],
   "source": [
    "class NaiveKmeans:\n",
    "    \"\"\"This is a naive implementation of the KMeans algorithm for clustering\"\"\"\n",
    "\n",
    "    def __init__(self, df, k, max_iterations=100):\n",
    "        \"\"\"Instantiate class attributes\"\"\"\n",
    "        self.df = df.copy()\n",
    "        self.k = k\n",
    "        self.max_iterations = max_iterations\n",
    "        self.centroids, self.centroid_coordinates = self.get_centroids(self.df, self.k)\n",
    "        self.n_iterations = 0\n",
    "        self.df_columns = self.df.columns\n",
    "\n",
    "    def get_centroids(self, df, k):\n",
    "        \"\"\"Initializes the random centroids and their coordinates\"\"\"\n",
    "        for col in df.columns:\n",
    "            if df[col].dtype == \"object\":\n",
    "                raise Exception(f\"All columns must have numeric datatypes. {col} is a string.\")\n",
    "        centroids = df.sample(k)\n",
    "        centroid_coordinates = centroids.values.tolist()\n",
    "        return centroids, centroid_coordinates\n",
    "    \n",
    "    def calculate_distances(self):\n",
    "        \"\"\"\n",
    "            Takes in the coordinates and calculate the euclidean \n",
    "            distances btwn the each centroid and the datapoints\n",
    "        \"\"\"\n",
    "        distances_columns = []\n",
    "        for i, coordinates in enumerate(self.centroid_coordinates):\n",
    "            name = f\"distances_{i+1}\"\n",
    "            distance_difference = (self.df[self.df_columns] - coordinates)**2\n",
    "            distance_sum = distance_difference.sum(axis=1)\n",
    "            distances_sqrt = np.sqrt(distance_sum)\n",
    "            self.df[name] = distances_sqrt\n",
    "            distances_columns.append(name)\n",
    "        return distances_columns\n",
    "    \n",
    "    def calculate_clusters(self):\n",
    "        \"\"\"Calculates the clusters each record belongs to\"\"\"\n",
    "        distance_cols = self.calculate_distances()\n",
    "        self.df[\"clusters\"] = self.df[distance_cols].idxmin(axis=1).str.split(\"_\").str[-1]\n",
    "    \n",
    "    def adjust_centroids(self):\n",
    "        \"\"\"Adjusts the centroids by calculating the means for the clusters\"\"\"\n",
    "        self.calculate_clusters()\n",
    "        new_centroids = round(self.df.groupby(\"clusters\")[self.df_columns].mean(), 2)\n",
    "        new_coords = new_centroids.values.tolist()\n",
    "        return new_centroids, new_coords\n",
    "    \n",
    "    def predict(self):\n",
    "        \"\"\"\n",
    "            Iterates the adjustments of the centroids until convergence or until \n",
    "            the set number of iterations is reached.\n",
    "        \"\"\"\n",
    "        for i in range(self.max_iterations):\n",
    "            previous_coordinates = self.centroid_coordinates\n",
    "            self.centroids, self.centroid_coordinates = self.adjust_centroids()\n",
    "            if previous_coordinates == self.centroid_coordinates:\n",
    "                break\n",
    "        self.n_iterations = i+1\n",
    "        return self.df[\"clusters\"]\n",
    "    \n",
    "    def inertia(self):\n",
    "        \"\"\"Calculates the distance between each datapoint and the centroid of its cluster\"\"\"\n",
    "        if \"clusters\" in self.df.columns:\n",
    "            final_df = self.df.copy()\n",
    "            non_distance_cols = self.df_columns.tolist()\n",
    "            final_df = final_df.drop(non_distance_cols, axis=1)\n",
    "            final_df = final_df.drop(\"clusters\", axis=1)\n",
    "            final_df[\"square_distance\"] = final_df.min(axis=1) ** 2\n",
    "            return round(final_df[\"square_distance\"].sum())\n",
    "        else:\n",
    "            raise Exception(\"Run the predict method first to cluster your data\")"
   ]
  },
  {
   "attachments": {},
   "cell_type": "markdown",
   "metadata": {},
   "source": [
    "## Test the Algorithm with Data"
   ]
  },
  {
   "cell_type": "code",
   "execution_count": 105,
   "metadata": {},
   "outputs": [
    {
     "data": {
      "text/html": [
       "<div>\n",
       "<style scoped>\n",
       "    .dataframe tbody tr th:only-of-type {\n",
       "        vertical-align: middle;\n",
       "    }\n",
       "\n",
       "    .dataframe tbody tr th {\n",
       "        vertical-align: top;\n",
       "    }\n",
       "\n",
       "    .dataframe thead th {\n",
       "        text-align: right;\n",
       "    }\n",
       "</style>\n",
       "<table border=\"1\" class=\"dataframe\">\n",
       "  <thead>\n",
       "    <tr style=\"text-align: right;\">\n",
       "      <th></th>\n",
       "      <th>Age</th>\n",
       "      <th>Annual_Income</th>\n",
       "      <th>Spending_Score</th>\n",
       "    </tr>\n",
       "  </thead>\n",
       "  <tbody>\n",
       "    <tr>\n",
       "      <th>0</th>\n",
       "      <td>19</td>\n",
       "      <td>15</td>\n",
       "      <td>39</td>\n",
       "    </tr>\n",
       "    <tr>\n",
       "      <th>1</th>\n",
       "      <td>21</td>\n",
       "      <td>15</td>\n",
       "      <td>81</td>\n",
       "    </tr>\n",
       "  </tbody>\n",
       "</table>\n",
       "</div>"
      ],
      "text/plain": [
       "   Age  Annual_Income  Spending_Score\n",
       "0   19             15              39\n",
       "1   21             15              81"
      ]
     },
     "execution_count": 105,
     "metadata": {},
     "output_type": "execute_result"
    }
   ],
   "source": [
    "df = pd.read_csv(\"./mall_customers.csv\")\n",
    "df = df.rename(columns={\"Annual Income (k$)\": \"Annual_Income\", \"Spending Score (1-100)\": \"Spending_Score\"})\n",
    "variables = [\"Age\", \"Annual_Income\", \"Spending_Score\"]\n",
    "df = df[variables]\n",
    "df.head(2)"
   ]
  },
  {
   "cell_type": "code",
   "execution_count": 126,
   "metadata": {},
   "outputs": [],
   "source": [
    "# Instantiate the Algorithm\n",
    "kmeans = NaiveKmeans(df, 2)"
   ]
  },
  {
   "cell_type": "code",
   "execution_count": 125,
   "metadata": {},
   "outputs": [],
   "source": [
    "# Predict Cluster\n",
    "clusters = kmeans.predict()"
   ]
  },
  {
   "cell_type": "code",
   "execution_count": 115,
   "metadata": {},
   "outputs": [],
   "source": [
    "# Calculate inertia\n",
    "inertias = []\n",
    "for i in range(2, 11):\n",
    "    km = NaiveKmeans(df, i)\n",
    "    km.predict()\n",
    "    inertia = km.inertia()\n",
    "    inertias.append(inertia)"
   ]
  },
  {
   "cell_type": "code",
   "execution_count": 124,
   "metadata": {},
   "outputs": [
    {
     "data": {
      "image/png": "[encoded data removed]",
      "text/plain": [
       "<Figure size 640x480 with 1 Axes>"
      ]
     },
     "metadata": {},
     "output_type": "display_data"
    }
   ],
   "source": [
    "# Visualise inertia\n",
    "import matplotlib.pyplot as plt\n",
    "plt.plot(range(2, len(inertias)+2), inertias, marker=\"o\", c=\"blue\")\n",
    "plt.xlim([1, 11])\n",
    "plt.grid()\n",
    "plt.ylabel(\"Inertia\")\n",
    "plt.xlabel(\"N-clusters\")\n",
    "plt.title(\"Elbow Curve\")\n",
    "plt.savefig(\"./assets/elbow.png\")\n",
    "plt.show()"
   ]
  },
  {
   "attachments": {},
   "cell_type": "markdown",
   "metadata": {},
   "source": [
    "# END"
   ]
  }
 ],
 "metadata": {
  "kernelspec": {
   "display_name": "base",
   "language": "python",
   "name": "python3"
  },
  "language_info": {
   "codemirror_mode": {
    "name": "ipython",
    "version": 3
   },
   "file_extension": ".py",
   "mimetype": "text/x-python",
   "name": "python",
   "nbconvert_exporter": "python",
   "pygments_lexer": "ipython3",
   "version": "3.9.13"
  },
  "orig_nbformat": 4
 },
 "nbformat": 4,
 "nbformat_minor": 2
}
